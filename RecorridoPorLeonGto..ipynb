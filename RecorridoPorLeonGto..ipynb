{
 "cells": [
  {
   "cell_type": "code",
   "execution_count": 237,
   "id": "d9190f89",
   "metadata": {},
   "outputs": [],
   "source": [
    "import pandas as pd\n",
    "import matplotlib.pyplot as plt\n",
    "import numpy as np"
   ]
  },
  {
   "cell_type": "code",
   "execution_count": 174,
   "id": "2a850eaa",
   "metadata": {},
   "outputs": [
    {
     "name": "stdout",
     "output_type": "stream",
     "text": [
      "        Voltaje  Unnamed: 1\n",
      "0           0.0         NaN\n",
      "1           0.0         NaN\n",
      "2           0.0         NaN\n",
      "3           0.0         NaN\n",
      "4           0.0         NaN\n",
      "...         ...         ...\n",
      "129510      0.0         NaN\n",
      "129511      0.0         NaN\n",
      "129512      0.0         NaN\n",
      "129513      0.0         NaN\n",
      "129514      0.0         NaN\n",
      "\n",
      "[129515 rows x 2 columns]\n"
     ]
    }
   ],
   "source": [
    "#Creamos un data frame con los datos del voltaje obtenidos\n",
    "df = pd.read_csv('RecorridoATravesDeLeonGto.csv')\n",
    "print(df)"
   ]
  },
  {
   "cell_type": "code",
   "execution_count": 175,
   "id": "d5500c87",
   "metadata": {},
   "outputs": [
    {
     "name": "stdout",
     "output_type": "stream",
     "text": [
      "<class 'numpy.float64'>\n"
     ]
    }
   ],
   "source": [
    "#Nuestros datos venian como string asi que los tranformamos a un valor numerico\n",
    "df.Voltaje = pd.to_numeric(df.Voltaje)\n",
    "#Verificamos\n",
    "print(type(df.Voltaje[0]))"
   ]
  },
  {
   "cell_type": "code",
   "execution_count": 176,
   "id": "b5ebc951",
   "metadata": {},
   "outputs": [
    {
     "name": "stdout",
     "output_type": "stream",
     "text": [
      "99.0\n",
      "0.0\n",
      "2.764896907127115\n"
     ]
    }
   ],
   "source": [
    "#Revisamos algunas estadisticas para buscar outliers (datos atipicos)\n",
    "print(df.Voltaje.max())#BINGO!\n",
    "print(df.Voltaje.min())\n",
    "print(df.Voltaje.mean())"
   ]
  },
  {
   "cell_type": "code",
   "execution_count": 177,
   "id": "c476e6db",
   "metadata": {},
   "outputs": [
    {
     "data": {
      "text/plain": [
       "45502     99.0\n",
       "40918     99.0\n",
       "18821     99.0\n",
       "16649     99.0\n",
       "30052     99.0\n",
       "          ... \n",
       "127455     NaN\n",
       "128061     NaN\n",
       "128181     NaN\n",
       "129387     NaN\n",
       "129507     NaN\n",
       "Name: Voltaje, Length: 129515, dtype: float64"
      ]
     },
     "execution_count": 177,
     "metadata": {},
     "output_type": "execute_result"
    }
   ],
   "source": [
    "#El sensor tomo lecturas medio raras, el Arduino no deberia haber detectado mas de 5 V\n",
    "df.Voltaje.sort_values(ascending=False)#ordenamos para ver"
   ]
  },
  {
   "cell_type": "code",
   "execution_count": 197,
   "id": "e538e71c",
   "metadata": {},
   "outputs": [],
   "source": [
    "#Hay que eliminar eso datos y hacesmos una copia para no perder los datos originales\n",
    "df_copy = df.Voltaje"
   ]
  },
  {
   "cell_type": "code",
   "execution_count": 198,
   "id": "66059005",
   "metadata": {},
   "outputs": [
    {
     "name": "stdout",
     "output_type": "stream",
     "text": [
      "[2168, 2289, 2409, 3374, 3494, 4340, 4460, 5184, 6030, 6390, 7236, 7356, 7476, 8322, 8442, 8562, 8682, 9648, 9768, 9888, 10854, 11940, 12666, 12786, 13872, 13992, 14598, 14718, 14838, 15924, 16650, 16770, 17616, 17736, 18582, 18822, 20513, 20633, 20753, 21479, 22325, 22445, 23171, 23291, 23411, 24017, 24137, 24257, 26069, 26189, 26309, 27155, 27275, 28121, 28241, 29087, 29207, 29327, 30053, 30173, 30293, 32225, 32345, 32465, 33311, 33431, 33551, 34397, 34637, 35363, 35483, 36209, 36329, 36449, 37415, 38141, 39107, 39953, 40073, 40193, 40313, 40919, 41039, 41159, 41279, 42005, 42125, 42245, 45503, 46109, 46229, 46349, 46469, 47075, 47195, 47315, 47435, 47555, 48641, 48761, 49727, 53951, 54071, 54191, 54311, 55037, 55157, 55277, 58781, 59747, 60833, 60953, 61799, 61919, 62645, 63491, 67721, 67841, 67961, 68805, 68925, 69045, 69165, 69891, 70011, 70131, 70251, 71097, 71217, 72182, 72302, 72422, 75439, 76405, 76525, 77371, 78217, 78337, 78457, 79423, 80269, 80389, 81355, 81475, 82441, 82561, 83286, 84012, 84132, 84252, 84372, 85218, 85338, 85458, 86424, 86544, 87150, 87270, 87390, 88356, 88476, 88596, 89322, 89442, 89562, 90288, 90408, 92460, 92580, 93545, 93785, 94631, 94751, 94871, 95597, 95717, 95837, 98495, 98615, 98735, 99700, 99820, 100664, 100784, 100904, 101750, 102476, 103682, 104527, 104647, 104767, 104887, 105733, 105853, 106579, 106699, 106819, 107665, 107785, 107905, 108631, 108751, 109477, 109597, 109717, 110563, 110683, 111527, 111647, 111767, 112733, 112973, 113697, 113937, 114663, 114783, 115869, 115989, 116109, 117920, 118040, 118886, 119732, 119852, 119972, 120698, 120818, 120938, 121904, 122024, 122144, 122990, 123110, 123230, 124076, 124196, 124316, 125162, 126974, 127940]\n"
     ]
    }
   ],
   "source": [
    "#Encontramos los indices de los valores que queremos quitar\n",
    "index_drop = []\n",
    "j=0\n",
    "for i in df_copy:\n",
    "    j+=1\n",
    "    if i > 5:\n",
    "        index_drop.append(j)\n",
    "print(index_drop)\n"
   ]
  },
  {
   "cell_type": "code",
   "execution_count": 199,
   "id": "063cac06",
   "metadata": {},
   "outputs": [],
   "source": [
    "#Eliminamos esos datos de nuestro data frame df_copy\n",
    "df_copy = df_copy.drop(index_drop)"
   ]
  },
  {
   "cell_type": "code",
   "execution_count": 211,
   "id": "964fa622",
   "metadata": {},
   "outputs": [],
   "source": [
    "#Tomamos los datos limpios de otro archivo cvs\n",
    "df_clean = pd.read_csv('DatosLimpios.csv')"
   ]
  },
  {
   "cell_type": "code",
   "execution_count": 235,
   "id": "70d9c8af",
   "metadata": {},
   "outputs": [
    {
     "name": "stdout",
     "output_type": "stream",
     "text": [
      "        Voltaje\n",
      "0           0.0\n",
      "1           0.0\n",
      "2           0.0\n",
      "3           0.0\n",
      "4           0.0\n",
      "...         ...\n",
      "128910      0.0\n",
      "128911      0.0\n",
      "128912      0.0\n",
      "128913      0.0\n",
      "128914      0.0\n",
      "\n",
      "[128915 rows x 1 columns]\n"
     ]
    },
    {
     "data": {
      "text/html": [
       "<div>\n",
       "<style scoped>\n",
       "    .dataframe tbody tr th:only-of-type {\n",
       "        vertical-align: middle;\n",
       "    }\n",
       "\n",
       "    .dataframe tbody tr th {\n",
       "        vertical-align: top;\n",
       "    }\n",
       "\n",
       "    .dataframe thead th {\n",
       "        text-align: right;\n",
       "    }\n",
       "</style>\n",
       "<table border=\"1\" class=\"dataframe\">\n",
       "  <thead>\n",
       "    <tr style=\"text-align: right;\">\n",
       "      <th></th>\n",
       "      <th>Voltaje</th>\n",
       "    </tr>\n",
       "  </thead>\n",
       "  <tbody>\n",
       "    <tr>\n",
       "      <th>count</th>\n",
       "      <td>128915.000000</td>\n",
       "    </tr>\n",
       "    <tr>\n",
       "      <th>mean</th>\n",
       "      <td>2.666907</td>\n",
       "    </tr>\n",
       "    <tr>\n",
       "      <th>std</th>\n",
       "      <td>1.657561</td>\n",
       "    </tr>\n",
       "    <tr>\n",
       "      <th>min</th>\n",
       "      <td>0.000000</td>\n",
       "    </tr>\n",
       "    <tr>\n",
       "      <th>25%</th>\n",
       "      <td>1.500000</td>\n",
       "    </tr>\n",
       "    <tr>\n",
       "      <th>50%</th>\n",
       "      <td>2.930000</td>\n",
       "    </tr>\n",
       "    <tr>\n",
       "      <th>75%</th>\n",
       "      <td>3.990000</td>\n",
       "    </tr>\n",
       "    <tr>\n",
       "      <th>max</th>\n",
       "      <td>5.000000</td>\n",
       "    </tr>\n",
       "  </tbody>\n",
       "</table>\n",
       "</div>"
      ],
      "text/plain": [
       "             Voltaje\n",
       "count  128915.000000\n",
       "mean        2.666907\n",
       "std         1.657561\n",
       "min         0.000000\n",
       "25%         1.500000\n",
       "50%         2.930000\n",
       "75%         3.990000\n",
       "max         5.000000"
      ]
     },
     "execution_count": 235,
     "metadata": {},
     "output_type": "execute_result"
    }
   ],
   "source": [
    "#Revisamos los datos y sus metricas\n",
    "print(df_clean)\n",
    "#Descripcion general\n",
    "df_clean.describe()"
   ]
  },
  {
   "cell_type": "markdown",
   "id": "4743d058",
   "metadata": {},
   "source": [
    "Al graficar podemos ver un poco como el voltaje (manchas azules), vario bastante a traves de un recorrido en auto con una velocidad por debajo de los 65 km/hr, sin embargo este voltaje se encuentra en su mayoria en los 4V.\n",
    "Por lo que con un regulador de voltaje, facilmente lograria alimentar a un aparato con 5 vols constantes en un trayecto como este.\n",
    "Con lo que lograriamos cargar un telefono celular."
   ]
  },
  {
   "cell_type": "code",
   "execution_count": 243,
   "id": "242d369f",
   "metadata": {},
   "outputs": [
    {
     "data": {
      "image/png": "[encoded data removed]",
      "text/plain": [
       "<Figure size 432x288 with 1 Axes>"
      ]
     },
     "metadata": {
      "needs_background": "light"
     },
     "output_type": "display_data"
    }
   ],
   "source": [
    "#Ahora los graficamos\n",
    "fig, ax = plt.subplots()\n",
    "ax.scatter(range(128915),df_clean.Voltaje)\n",
    "plt.show()"
   ]
  }
 ],
 "metadata": {
  "kernelspec": {
   "display_name": "Python 3",
   "language": "python",
   "name": "python3"
  },
  "language_info": {
   "codemirror_mode": {
    "name": "ipython",
    "version": 3
   },
   "file_extension": ".py",
   "mimetype": "text/x-python",
   "name": "python",
   "nbconvert_exporter": "python",
   "pygments_lexer": "ipython3",
   "version": "3.8.8"
  }
 },
 "nbformat": 4,
 "nbformat_minor": 5
}
